{
 "cells": [
  {
   "cell_type": "code",
   "execution_count": 1,
   "metadata": {
    "ExecuteTime": {
     "end_time": "2020-05-04T08:07:53.696840Z",
     "start_time": "2020-05-04T08:07:53.334808Z"
    }
   },
   "outputs": [],
   "source": [
    "import pandas as pd\n",
    "import re\n",
    "import warnings\n",
    "\n",
    "warnings.filterwarnings('ignore')\n",
    "\n",
    "from sklearn.feature_extraction.text import TfidfVectorizer\n",
    "from sklearn import svm\n",
    "from sklearn.pipeline import Pipeline, FeatureUnion\n",
    "from sklearn.calibration import CalibratedClassifierCV\n",
    "from sklearn.preprocessing import OneHotEncoder, FunctionTransformer\n",
    "from sklearn.base import BaseEstimator, TransformerMixin\n",
    "\n",
    "def text_normalize(x):\n",
    "    return ' '.join(r for r in re.findall(r'[а-я]+', str(x).lower())\n",
    "                    if len(r) > 2)\n",
    "\n",
    "def top_pair(values, keys, n=3):\n",
    "    return sorted(zip(values, keys), reverse=True)[:n]\n",
    "\n",
    "def predict(model, X):\n",
    "    predictions = model.predict_proba(X)\n",
    "    classes = model.classes_\n",
    "    return [top_pair(p, classes) for p in predictions]\n",
    "\n",
    "class ItemSelector(BaseEstimator, TransformerMixin):\n",
    "    \"\"\"For data grouped by feature, select subset of data at a provided key.\n",
    "\n",
    "    The data is expected to be stored in a 2D data structure, where the first\n",
    "    index is over features and the second is over samples.  i.e.\n",
    "\n",
    "    >> len(data[key]) == n_samples\n",
    "\n",
    "    Please note that this is the opposite convention to scikit-learn feature\n",
    "    matrixes (where the first index corresponds to sample).\n",
    "\n",
    "    ItemSelector only requires that the collection implement getitem\n",
    "    (data[key]).  Examples include: a dict of lists, 2D numpy array, Pandas\n",
    "    DataFrame, numpy record array, etc.\n",
    "\n",
    "    >> data = {'a': [1, 5, 2, 5, 2, 8],\n",
    "               'b': [9, 4, 1, 4, 1, 3]}\n",
    "    >> ds = ItemSelector(key='a')\n",
    "    >> data['a'] == ds.transform(data)\n",
    "\n",
    "    ItemSelector is not designed to handle data grouped by sample.  (e.g. a\n",
    "    list of dicts).  If your data is structured this way, consider a\n",
    "    transformer along the lines of `sklearn.feature_extraction.DictVectorizer`.\n",
    "\n",
    "    Parameters\n",
    "    ----------\n",
    "    key : hashable, required\n",
    "        The key corresponding to the desired value in a mappable.\n",
    "    \"\"\"\n",
    "    def __init__(self, key):\n",
    "        self.key = key\n",
    "\n",
    "    def fit(self, x, y=None):\n",
    "        return self\n",
    "\n",
    "    def transform(self, data_dict):\n",
    "        if self.key == 'symptomps':\n",
    "            return data_dict[self.key]\n",
    "        else:\n",
    "            return data_dict[self.key].values.reshape(-1, 1)"
   ]
  },
  {
   "cell_type": "markdown",
   "metadata": {},
   "source": [
    "# Data"
   ]
  },
  {
   "cell_type": "code",
   "execution_count": 2,
   "metadata": {
    "ExecuteTime": {
     "end_time": "2020-05-04T08:07:54.233466Z",
     "start_time": "2020-05-04T08:07:53.697839Z"
    }
   },
   "outputs": [],
   "source": [
    "train = pd.read_csv(r'train_data.csv', sep=';')\n",
    "train['symptomps'] = train['Жалобы'].map(text_normalize)"
   ]
  },
  {
   "cell_type": "code",
   "execution_count": 3,
   "metadata": {
    "ExecuteTime": {
     "end_time": "2020-05-04T08:07:54.239418Z",
     "start_time": "2020-05-04T08:07:54.234432Z"
    }
   },
   "outputs": [
    {
     "data": {
      "text/plain": [
       "(61976, 11)"
      ]
     },
     "execution_count": 3,
     "metadata": {},
     "output_type": "execute_result"
    }
   ],
   "source": [
    "train.shape"
   ]
  },
  {
   "cell_type": "code",
   "execution_count": 4,
   "metadata": {
    "ExecuteTime": {
     "end_time": "2020-05-04T08:07:54.285295Z",
     "start_time": "2020-05-04T08:07:54.240416Z"
    }
   },
   "outputs": [],
   "source": [
    "train['gender'] = train['Пол'].map(lambda x: 'мужской' if x==1 else 'женский')\n",
    "train['age'] = train['Возраст'].astype(str).values"
   ]
  },
  {
   "cell_type": "code",
   "execution_count": 5,
   "metadata": {
    "ExecuteTime": {
     "end_time": "2020-05-04T08:07:54.300255Z",
     "start_time": "2020-05-04T08:07:54.286292Z"
    }
   },
   "outputs": [
    {
     "data": {
      "text/html": [
       "<div>\n",
       "<style scoped>\n",
       "    .dataframe tbody tr th:only-of-type {\n",
       "        vertical-align: middle;\n",
       "    }\n",
       "\n",
       "    .dataframe tbody tr th {\n",
       "        vertical-align: top;\n",
       "    }\n",
       "\n",
       "    .dataframe thead th {\n",
       "        text-align: right;\n",
       "    }\n",
       "</style>\n",
       "<table border=\"1\" class=\"dataframe\">\n",
       "  <thead>\n",
       "    <tr style=\"text-align: right;\">\n",
       "      <th></th>\n",
       "      <th>Id_Записи</th>\n",
       "      <th>Id_Пациента</th>\n",
       "      <th>Возраст</th>\n",
       "      <th>Диагноз</th>\n",
       "      <th>Жалобы</th>\n",
       "      <th>Источник_рекламы</th>\n",
       "      <th>Клиника</th>\n",
       "      <th>Код_диагноза</th>\n",
       "      <th>Пол</th>\n",
       "      <th>Услуга</th>\n",
       "      <th>symptomps</th>\n",
       "      <th>gender</th>\n",
       "      <th>age</th>\n",
       "    </tr>\n",
       "  </thead>\n",
       "  <tbody>\n",
       "    <tr>\n",
       "      <td>0</td>\n",
       "      <td>0</td>\n",
       "      <td>115819</td>\n",
       "      <td>54</td>\n",
       "      <td>Гипертензивная болезнь сердца [гипертоническая...</td>\n",
       "      <td>на повышение ад утром до 140/90 мм.рт.ст., пер...</td>\n",
       "      <td>Другое</td>\n",
       "      <td>5</td>\n",
       "      <td>I11</td>\n",
       "      <td>2</td>\n",
       "      <td>Прием врача-кардиолога  повторный, амбулаторный</td>\n",
       "      <td>повышение утром периодич головокружение</td>\n",
       "      <td>женский</td>\n",
       "      <td>54</td>\n",
       "    </tr>\n",
       "    <tr>\n",
       "      <td>1</td>\n",
       "      <td>1</td>\n",
       "      <td>399973</td>\n",
       "      <td>32</td>\n",
       "      <td>Доброкачественное новообразование молочной железы</td>\n",
       "      <td>На наличие опухоли в левой молочной железе</td>\n",
       "      <td>Другое</td>\n",
       "      <td>3</td>\n",
       "      <td>D24</td>\n",
       "      <td>2</td>\n",
       "      <td>Прием врача-онколога (маммолога), повторный, а...</td>\n",
       "      <td>наличие опухоли левой молочной железе</td>\n",
       "      <td>женский</td>\n",
       "      <td>32</td>\n",
       "    </tr>\n",
       "    <tr>\n",
       "      <td>2</td>\n",
       "      <td>2</td>\n",
       "      <td>427563</td>\n",
       "      <td>72</td>\n",
       "      <td>Простой хронический бронхит</td>\n",
       "      <td>Активных жалоб нет.</td>\n",
       "      <td>Интернет</td>\n",
       "      <td>6</td>\n",
       "      <td>J41.0</td>\n",
       "      <td>2</td>\n",
       "      <td>Прием первичный врача-пульмонолога</td>\n",
       "      <td>активных жалоб нет</td>\n",
       "      <td>женский</td>\n",
       "      <td>72</td>\n",
       "    </tr>\n",
       "    <tr>\n",
       "      <td>3</td>\n",
       "      <td>3</td>\n",
       "      <td>257197</td>\n",
       "      <td>55</td>\n",
       "      <td>Другая дорсалгия</td>\n",
       "      <td>на сохраняющиеся боли в спине и пояснице, сков...</td>\n",
       "      <td>Другое</td>\n",
       "      <td>3</td>\n",
       "      <td>M54.8</td>\n",
       "      <td>1</td>\n",
       "      <td>Прием врача-невролога  повторный, амбулаторный</td>\n",
       "      <td>сохраняющиеся боли спине пояснице скованность ней</td>\n",
       "      <td>мужской</td>\n",
       "      <td>55</td>\n",
       "    </tr>\n",
       "    <tr>\n",
       "      <td>4</td>\n",
       "      <td>4</td>\n",
       "      <td>281066</td>\n",
       "      <td>28</td>\n",
       "      <td>Острый фарингит</td>\n",
       "      <td>на дискомфорт в горле, слабое першение, слабость</td>\n",
       "      <td>Другое</td>\n",
       "      <td>3</td>\n",
       "      <td>J02</td>\n",
       "      <td>2</td>\n",
       "      <td>Прием врача-оториноларинголога повторный, амбу...</td>\n",
       "      <td>дискомфорт горле слабое першение слабость</td>\n",
       "      <td>женский</td>\n",
       "      <td>28</td>\n",
       "    </tr>\n",
       "  </tbody>\n",
       "</table>\n",
       "</div>"
      ],
      "text/plain": [
       "   Id_Записи  Id_Пациента  Возраст                                            Диагноз                                             Жалобы Источник_рекламы  Клиника Код_диагноза  Пол                                             Услуга                                          symptomps   gender age\n",
       "0          0       115819       54  Гипертензивная болезнь сердца [гипертоническая...  на повышение ад утром до 140/90 мм.рт.ст., пер...           Другое        5          I11    2    Прием врача-кардиолога  повторный, амбулаторный            повышение утром периодич головокружение  женский  54\n",
       "1          1       399973       32  Доброкачественное новообразование молочной железы         На наличие опухоли в левой молочной железе           Другое        3          D24    2  Прием врача-онколога (маммолога), повторный, а...              наличие опухоли левой молочной железе  женский  32\n",
       "2          2       427563       72                        Простой хронический бронхит                                Активных жалоб нет.         Интернет        6        J41.0    2                 Прием первичный врача-пульмонолога                                 активных жалоб нет  женский  72\n",
       "3          3       257197       55                                   Другая дорсалгия  на сохраняющиеся боли в спине и пояснице, сков...           Другое        3        M54.8    1     Прием врача-невролога  повторный, амбулаторный  сохраняющиеся боли спине пояснице скованность ней  мужской  55\n",
       "4          4       281066       28                                    Острый фарингит   на дискомфорт в горле, слабое першение, слабость           Другое        3          J02    2  Прием врача-оториноларинголога повторный, амбу...          дискомфорт горле слабое першение слабость  женский  28"
      ]
     },
     "execution_count": 5,
     "metadata": {},
     "output_type": "execute_result"
    }
   ],
   "source": [
    "train.head()"
   ]
  },
  {
   "cell_type": "code",
   "execution_count": 6,
   "metadata": {
    "ExecuteTime": {
     "end_time": "2020-05-04T08:07:54.306240Z",
     "start_time": "2020-05-04T08:07:54.301253Z"
    }
   },
   "outputs": [],
   "source": [
    "diag = pd.read_pickle('diagnoz_vrach.pickle')"
   ]
  },
  {
   "cell_type": "code",
   "execution_count": 7,
   "metadata": {
    "ExecuteTime": {
     "end_time": "2020-05-04T08:07:54.335162Z",
     "start_time": "2020-05-04T08:07:54.307237Z"
    }
   },
   "outputs": [],
   "source": [
    "train = train[train['Код_диагноза'].isin(diag.keys())]"
   ]
  },
  {
   "cell_type": "code",
   "execution_count": 8,
   "metadata": {
    "ExecuteTime": {
     "end_time": "2020-05-04T08:07:54.343141Z",
     "start_time": "2020-05-04T08:07:54.338154Z"
    }
   },
   "outputs": [
    {
     "data": {
      "text/plain": [
       "(44819, 13)"
      ]
     },
     "execution_count": 8,
     "metadata": {},
     "output_type": "execute_result"
    }
   ],
   "source": [
    "train.shape"
   ]
  },
  {
   "cell_type": "code",
   "execution_count": 9,
   "metadata": {
    "ExecuteTime": {
     "end_time": "2020-05-04T08:07:54.348129Z",
     "start_time": "2020-05-04T08:07:54.345136Z"
    }
   },
   "outputs": [],
   "source": [
    "# Remove rare diseases"
   ]
  },
  {
   "cell_type": "code",
   "execution_count": 10,
   "metadata": {
    "ExecuteTime": {
     "end_time": "2020-05-04T08:07:54.359098Z",
     "start_time": "2020-05-04T08:07:54.349125Z"
    }
   },
   "outputs": [
    {
     "data": {
      "text/plain": [
       "Острая инфекция верхних дыхательных путей неуточненная    2147\n",
       "Остеохондроз позвоночника у взрослых                      1949\n",
       "Острый назофарингит (насморк)                             1379\n",
       "Беременность подтвержденная                               1358\n",
       "Хронический простатит                                     1111\n",
       "                                                          ... \n",
       "Злокачественное новообразование щитовидной железы            1\n",
       "Полип полости носа                                           1\n",
       "Тиреоидит                                                    1\n",
       "Другой инфаркт мозга                                         1\n",
       "Дискоидная красная волчанка                                  1\n",
       "Name: Диагноз, Length: 783, dtype: int64"
      ]
     },
     "execution_count": 10,
     "metadata": {},
     "output_type": "execute_result"
    }
   ],
   "source": [
    "train['Диагноз'].value_counts()"
   ]
  },
  {
   "cell_type": "code",
   "execution_count": 11,
   "metadata": {
    "ExecuteTime": {
     "end_time": "2020-05-04T08:07:54.369071Z",
     "start_time": "2020-05-04T08:07:54.360096Z"
    }
   },
   "outputs": [],
   "source": [
    "t = train['Диагноз'].value_counts()\n",
    "t = t[t <= 50]"
   ]
  },
  {
   "cell_type": "code",
   "execution_count": 12,
   "metadata": {
    "ExecuteTime": {
     "end_time": "2020-05-04T08:07:54.383064Z",
     "start_time": "2020-05-04T08:07:54.370069Z"
    }
   },
   "outputs": [],
   "source": [
    "train = train[~train['Диагноз'].isin(t.index)]"
   ]
  },
  {
   "cell_type": "code",
   "execution_count": 13,
   "metadata": {
    "ExecuteTime": {
     "end_time": "2020-05-04T08:07:54.388051Z",
     "start_time": "2020-05-04T08:07:54.385029Z"
    }
   },
   "outputs": [
    {
     "data": {
      "text/plain": [
       "(38948, 13)"
      ]
     },
     "execution_count": 13,
     "metadata": {},
     "output_type": "execute_result"
    }
   ],
   "source": [
    "train.shape"
   ]
  },
  {
   "cell_type": "markdown",
   "metadata": {},
   "source": [
    "# Pipeline"
   ]
  },
  {
   "cell_type": "code",
   "execution_count": 14,
   "metadata": {
    "ExecuteTime": {
     "end_time": "2020-05-04T08:07:54.393052Z",
     "start_time": "2020-05-04T08:07:54.389020Z"
    }
   },
   "outputs": [],
   "source": [
    "clf = CalibratedClassifierCV(\n",
    "                base_estimator=svm.SVC(kernel='linear', \n",
    "                                       C=.1, probability=False),\n",
    "                method='isotonic')"
   ]
  },
  {
   "cell_type": "markdown",
   "metadata": {},
   "source": [
    "## Simple train/test split"
   ]
  },
  {
   "cell_type": "code",
   "execution_count": 15,
   "metadata": {
    "ExecuteTime": {
     "end_time": "2020-05-04T08:07:54.406970Z",
     "start_time": "2020-05-04T08:07:54.394006Z"
    }
   },
   "outputs": [],
   "source": [
    "test = train.sample(frac=0.9, random_state=0)\n",
    "y_test = test['Диагноз'].values "
   ]
  },
  {
   "cell_type": "code",
   "execution_count": 16,
   "metadata": {
    "ExecuteTime": {
     "end_time": "2020-05-04T08:07:54.418938Z",
     "start_time": "2020-05-04T08:07:54.407968Z"
    }
   },
   "outputs": [],
   "source": [
    "X = train[~train['Id_Записи'].isin(test['Id_Записи'].unique())]\n",
    "y = train[~train['Id_Записи'].isin(test['Id_Записи'].unique())]['Диагноз'].values"
   ]
  },
  {
   "cell_type": "markdown",
   "metadata": {},
   "source": [
    "## Model"
   ]
  },
  {
   "cell_type": "code",
   "execution_count": 22,
   "metadata": {
    "ExecuteTime": {
     "end_time": "2020-05-04T08:09:38.385273Z",
     "start_time": "2020-05-04T08:09:29.227090Z"
    },
    "scrolled": true
   },
   "outputs": [
    {
     "data": {
      "text/plain": [
       "Pipeline(memory=None,\n",
       "         steps=[('union',\n",
       "                 FeatureUnion(n_jobs=None,\n",
       "                              transformer_list=[('tfidf',\n",
       "                                                 Pipeline(memory=None,\n",
       "                                                          steps=[('selector',\n",
       "                                                                  ItemSelector(key='symptomps')),\n",
       "                                                                 ('tdidf',\n",
       "                                                                  TfidfVectorizer(analyzer='word',\n",
       "                                                                                  binary=False,\n",
       "                                                                                  decode_error='strict',\n",
       "                                                                                  dtype=<class 'numpy.float64'>,\n",
       "                                                                                  encoding='utf-8',\n",
       "                                                                                  input='content',\n",
       "                                                                                  lowercase=True,\n",
       "                                                                                  max_df=1.0,\n",
       "                                                                                  max_features=None,\n",
       "                                                                                  min_df=1...\n",
       "                              transformer_weights={'age': 0.1, 'gender': 0.1,\n",
       "                                                   'tfidf': 0.8},\n",
       "                              verbose=False)),\n",
       "                ('svc',\n",
       "                 CalibratedClassifierCV(base_estimator=SVC(C=0.1,\n",
       "                                                           cache_size=200,\n",
       "                                                           class_weight=None,\n",
       "                                                           coef0=0.0,\n",
       "                                                           decision_function_shape='ovr',\n",
       "                                                           degree=3,\n",
       "                                                           gamma='auto_deprecated',\n",
       "                                                           kernel='linear',\n",
       "                                                           max_iter=-1,\n",
       "                                                           probability=False,\n",
       "                                                           random_state=None,\n",
       "                                                           shrinking=True,\n",
       "                                                           tol=0.001,\n",
       "                                                           verbose=False),\n",
       "                                        cv='warn', method='isotonic'))],\n",
       "         verbose=False)"
      ]
     },
     "execution_count": 22,
     "metadata": {},
     "output_type": "execute_result"
    }
   ],
   "source": [
    "model = Pipeline([\n",
    "        ('union', FeatureUnion(\n",
    "        transformer_list=[\n",
    "\n",
    "        # Pipeline for pulling features\n",
    "            ('tfidf', Pipeline([\n",
    "                        ('selector', ItemSelector(key='symptomps')),\n",
    "                        ('tdidf', TfidfVectorizer(min_df=10))\n",
    "            ])),\n",
    "            ('age', Pipeline([\n",
    "                        ('selector', ItemSelector(key='age')),\n",
    "                        ('ohe', OneHotEncoder(handle_unknown='ignore'))\n",
    "            ])),\n",
    "            ('gender', Pipeline([\n",
    "                        ('selector', ItemSelector(key='gender')),\n",
    "                        ('ohe', OneHotEncoder(handle_unknown='ignore'))\n",
    "            ])),\n",
    "        ],\n",
    "\n",
    "        # weight components in FeatureUnion\n",
    "        transformer_weights={\n",
    "            'tfidf': 0.8,\n",
    "            'age': 0.1,\n",
    "            'gender': 0.1\n",
    "        },\n",
    "    )),\n",
    "        ('svc', clf)])\n",
    "\n",
    "model.fit(X, y)"
   ]
  },
  {
   "cell_type": "code",
   "execution_count": 23,
   "metadata": {
    "ExecuteTime": {
     "end_time": "2020-05-04T08:09:39.056086Z",
     "start_time": "2020-05-04T08:09:38.387267Z"
    }
   },
   "outputs": [
    {
     "data": {
      "text/plain": [
       "[[(0.19622102584007092, 'Остеохондроз позвоночника у взрослых'),\n",
       "  (0.09069040742740685, 'Цервикалгия'),\n",
       "  (0.08073066142957801, 'Остеохондроз позвоночника')],\n",
       " [(0.22321955032164661, 'Остеохондроз позвоночника у взрослых'),\n",
       "  (0.09331663644231376, 'Цервикалгия'),\n",
       "  (0.0828543054414733, 'Остеохондроз позвоночника')],\n",
       " [(0.7525635996467455, 'Хронический тонзиллит'),\n",
       "  (0.023385398289015435, 'Острый тонзиллит'),\n",
       "  (0.012467473992156515, 'Острый назофарингит (насморк)')],\n",
       " [(0.16109767748236184, 'Гастроэзофагеальный рефлюкс с эзофагитом'),\n",
       "  (0.07041391122064121, 'Гастродуоденит неуточненный'),\n",
       "  (0.056541362250485616, 'Хронический гастрит неуточненный')],\n",
       " [(0.08596229151050533, 'Церебральный атеросклероз'),\n",
       "  (0.07321086978583143, 'Головная боль напряженного типа'),\n",
       "  (0.0700490712598197, 'Другие уточненные поражения сосудов мозга')],\n",
       " [(0.22178300574391163, 'Остеохондроз позвоночника у взрослых'),\n",
       "  (0.07901541698755832, 'Миалгия'),\n",
       "  (0.07874858984046594, 'Цервикалгия')],\n",
       " [(0.4167291471695602, 'Общий медицинский осмотр'),\n",
       "  (0.07089433272102631, 'Беременность подтвержденная'),\n",
       "  (0.06699018520564244,\n",
       "   'Гипертензивная болезнь сердца [гипертоническая болезнь сердца с преимущественным поражением сердца]')],\n",
       " [(0.21960665401533508, 'Диспепсия'),\n",
       "  (0.1604472577644357, 'Хронический гастрит неуточненный'),\n",
       "  (0.09110825314941538, 'Гастроэзофагеальный рефлюкс с эзофагитом')],\n",
       " [(0.24568658403607083,\n",
       "   'Атеросклеротическая сердечно-сосудистая болезнь, так описанная'),\n",
       "  (0.08898913170607252,\n",
       "   'Гипертензивная болезнь сердца [гипертоническая болезнь сердца с преимущественным поражением сердца]'),\n",
       "  (0.08172958184572139, 'Остеохондроз позвоночника у взрослых')],\n",
       " [(0.1649820625202943, 'Остеохондроз позвоночника у взрослых'),\n",
       "  (0.1526205720489522, 'Диспепсия'),\n",
       "  (0.043158785240774385, 'Другие хронические панкреатиты')]]"
      ]
     },
     "execution_count": 23,
     "metadata": {},
     "output_type": "execute_result"
    }
   ],
   "source": [
    "predict(model, X[:10])"
   ]
  },
  {
   "cell_type": "markdown",
   "metadata": {},
   "source": [
    "# Save model"
   ]
  },
  {
   "cell_type": "code",
   "execution_count": 24,
   "metadata": {
    "ExecuteTime": {
     "end_time": "2020-05-04T08:09:39.232611Z",
     "start_time": "2020-05-04T08:09:39.057051Z"
    }
   },
   "outputs": [
    {
     "data": {
      "text/plain": [
       "['model/mymed_v0.joblib']"
      ]
     },
     "execution_count": 24,
     "metadata": {},
     "output_type": "execute_result"
    }
   ],
   "source": [
    "from joblib import dump, load\n",
    "dump(model, 'model/mymed_v0.joblib') "
   ]
  },
  {
   "cell_type": "markdown",
   "metadata": {},
   "source": [
    "# Evaluate performance"
   ]
  },
  {
   "cell_type": "code",
   "execution_count": 25,
   "metadata": {
    "ExecuteTime": {
     "end_time": "2020-05-04T08:09:39.238564Z",
     "start_time": "2020-05-04T08:09:39.233578Z"
    }
   },
   "outputs": [],
   "source": [
    "def top_elements(a, n=5):\n",
    "    return sorted(range(len(a)), key=lambda i: a[i])[(n:]\n",
    "\n",
    "def check_precision(model, X, y):\n",
    "    predictions = model.predict_proba(X)\n",
    "    classes = model.classes_\n",
    "    return sum([1 if true in classes[top_elements(prediction)] else 0 for true, prediction in zip(y, predictions)]) / len(y)"
   ]
  },
  {
   "cell_type": "code",
   "execution_count": 26,
   "metadata": {
    "ExecuteTime": {
     "end_time": "2020-05-04T08:09:40.680376Z",
     "start_time": "2020-05-04T08:09:40.503749Z"
    }
   },
   "outputs": [],
   "source": [
    "model = load('model/mymed_v0.joblib')"
   ]
  },
  {
   "cell_type": "code",
   "execution_count": 27,
   "metadata": {
    "ExecuteTime": {
     "end_time": "2020-05-04T08:14:10.231633Z",
     "start_time": "2020-05-04T08:09:41.105676Z"
    }
   },
   "outputs": [
    {
     "name": "stdout",
     "output_type": "stream",
     "text": [
      "Precision at top 5: 0.62\n"
     ]
    }
   ],
   "source": [
    "print('Precision at top 5: {0:0.2f}'.format(check_precision(model, test, y_test)))"
   ]
  },
  {
   "cell_type": "markdown",
   "metadata": {},
   "source": [
    "# Map predictions to doctors"
   ]
  },
  {
   "cell_type": "code",
   "execution_count": 29,
   "metadata": {
    "ExecuteTime": {
     "end_time": "2020-05-04T08:16:10.174648Z",
     "start_time": "2020-05-04T08:16:10.163674Z"
    }
   },
   "outputs": [
    {
     "data": {
      "text/html": [
       "<div>\n",
       "<style scoped>\n",
       "    .dataframe tbody tr th:only-of-type {\n",
       "        vertical-align: middle;\n",
       "    }\n",
       "\n",
       "    .dataframe tbody tr th {\n",
       "        vertical-align: top;\n",
       "    }\n",
       "\n",
       "    .dataframe thead th {\n",
       "        text-align: right;\n",
       "    }\n",
       "</style>\n",
       "<table border=\"1\" class=\"dataframe\">\n",
       "  <thead>\n",
       "    <tr style=\"text-align: right;\">\n",
       "      <th></th>\n",
       "      <th>Id_Записи</th>\n",
       "      <th>Id_Пациента</th>\n",
       "      <th>Возраст</th>\n",
       "      <th>Диагноз</th>\n",
       "      <th>Жалобы</th>\n",
       "      <th>Источник_рекламы</th>\n",
       "      <th>Клиника</th>\n",
       "      <th>Код_диагноза</th>\n",
       "      <th>Пол</th>\n",
       "      <th>Услуга</th>\n",
       "      <th>symptomps</th>\n",
       "      <th>gender</th>\n",
       "      <th>age</th>\n",
       "    </tr>\n",
       "  </thead>\n",
       "  <tbody>\n",
       "    <tr>\n",
       "      <td>0</td>\n",
       "      <td>0</td>\n",
       "      <td>115819</td>\n",
       "      <td>54</td>\n",
       "      <td>Гипертензивная болезнь сердца [гипертоническая...</td>\n",
       "      <td>на повышение ад утром до 140/90 мм.рт.ст., пер...</td>\n",
       "      <td>Другое</td>\n",
       "      <td>5</td>\n",
       "      <td>I11</td>\n",
       "      <td>2</td>\n",
       "      <td>Прием врача-кардиолога  повторный, амбулаторный</td>\n",
       "      <td>повышение утром периодич головокружение</td>\n",
       "      <td>женский</td>\n",
       "      <td>54</td>\n",
       "    </tr>\n",
       "    <tr>\n",
       "      <td>2</td>\n",
       "      <td>2</td>\n",
       "      <td>427563</td>\n",
       "      <td>72</td>\n",
       "      <td>Простой хронический бронхит</td>\n",
       "      <td>Активных жалоб нет.</td>\n",
       "      <td>Интернет</td>\n",
       "      <td>6</td>\n",
       "      <td>J41.0</td>\n",
       "      <td>2</td>\n",
       "      <td>Прием первичный врача-пульмонолога</td>\n",
       "      <td>активных жалоб нет</td>\n",
       "      <td>женский</td>\n",
       "      <td>72</td>\n",
       "    </tr>\n",
       "    <tr>\n",
       "      <td>3</td>\n",
       "      <td>3</td>\n",
       "      <td>257197</td>\n",
       "      <td>55</td>\n",
       "      <td>Другая дорсалгия</td>\n",
       "      <td>на сохраняющиеся боли в спине и пояснице, сков...</td>\n",
       "      <td>Другое</td>\n",
       "      <td>3</td>\n",
       "      <td>M54.8</td>\n",
       "      <td>1</td>\n",
       "      <td>Прием врача-невролога  повторный, амбулаторный</td>\n",
       "      <td>сохраняющиеся боли спине пояснице скованность ней</td>\n",
       "      <td>мужской</td>\n",
       "      <td>55</td>\n",
       "    </tr>\n",
       "    <tr>\n",
       "      <td>4</td>\n",
       "      <td>4</td>\n",
       "      <td>281066</td>\n",
       "      <td>28</td>\n",
       "      <td>Острый фарингит</td>\n",
       "      <td>на дискомфорт в горле, слабое першение, слабость</td>\n",
       "      <td>Другое</td>\n",
       "      <td>3</td>\n",
       "      <td>J02</td>\n",
       "      <td>2</td>\n",
       "      <td>Прием врача-оториноларинголога повторный, амбу...</td>\n",
       "      <td>дискомфорт горле слабое першение слабость</td>\n",
       "      <td>женский</td>\n",
       "      <td>28</td>\n",
       "    </tr>\n",
       "    <tr>\n",
       "      <td>6</td>\n",
       "      <td>6</td>\n",
       "      <td>416352</td>\n",
       "      <td>29</td>\n",
       "      <td>Поражение межпозвоночных дисков других отделов</td>\n",
       "      <td>Не изменились с момента первого приема</td>\n",
       "      <td>Интернет</td>\n",
       "      <td>2</td>\n",
       "      <td>M51</td>\n",
       "      <td>2</td>\n",
       "      <td>Прием врача-невролога  повторный, амбулаторный</td>\n",
       "      <td>изменились момента первого приема</td>\n",
       "      <td>женский</td>\n",
       "      <td>29</td>\n",
       "    </tr>\n",
       "  </tbody>\n",
       "</table>\n",
       "</div>"
      ],
      "text/plain": [
       "   Id_Записи  Id_Пациента  Возраст                                            Диагноз                                             Жалобы Источник_рекламы  Клиника Код_диагноза  Пол                                             Услуга                                          symptomps   gender age\n",
       "0          0       115819       54  Гипертензивная болезнь сердца [гипертоническая...  на повышение ад утром до 140/90 мм.рт.ст., пер...           Другое        5          I11    2    Прием врача-кардиолога  повторный, амбулаторный            повышение утром периодич головокружение  женский  54\n",
       "2          2       427563       72                        Простой хронический бронхит                                Активных жалоб нет.         Интернет        6        J41.0    2                 Прием первичный врача-пульмонолога                                 активных жалоб нет  женский  72\n",
       "3          3       257197       55                                   Другая дорсалгия  на сохраняющиеся боли в спине и пояснице, сков...           Другое        3        M54.8    1     Прием врача-невролога  повторный, амбулаторный  сохраняющиеся боли спине пояснице скованность ней  мужской  55\n",
       "4          4       281066       28                                    Острый фарингит   на дискомфорт в горле, слабое першение, слабость           Другое        3          J02    2  Прием врача-оториноларинголога повторный, амбу...          дискомфорт горле слабое першение слабость  женский  28\n",
       "6          6       416352       29     Поражение межпозвоночных дисков других отделов             Не изменились с момента первого приема         Интернет        2          M51    2     Прием врача-невролога  повторный, амбулаторный                  изменились момента первого приема  женский  29"
      ]
     },
     "execution_count": 29,
     "metadata": {},
     "output_type": "execute_result"
    }
   ],
   "source": [
    "train.head()"
   ]
  },
  {
   "cell_type": "code",
   "execution_count": 44,
   "metadata": {
    "ExecuteTime": {
     "end_time": "2020-05-04T08:20:53.567696Z",
     "start_time": "2020-05-04T08:20:53.356189Z"
    }
   },
   "outputs": [],
   "source": [
    "train = pd.read_csv(r'train_data.csv', sep=';')"
   ]
  },
  {
   "cell_type": "code",
   "execution_count": 45,
   "metadata": {
    "ExecuteTime": {
     "end_time": "2020-05-04T08:20:55.116809Z",
     "start_time": "2020-05-04T08:20:55.110825Z"
    }
   },
   "outputs": [],
   "source": [
    "docs = pd.DataFrame({'Код_диагноза' : list(diag.keys()), 'Доктор' : list(diag.values())})"
   ]
  },
  {
   "cell_type": "code",
   "execution_count": 46,
   "metadata": {
    "ExecuteTime": {
     "end_time": "2020-05-04T08:20:55.640409Z",
     "start_time": "2020-05-04T08:20:55.636419Z"
    }
   },
   "outputs": [
    {
     "data": {
      "text/plain": [
       "787"
      ]
     },
     "execution_count": 46,
     "metadata": {},
     "output_type": "execute_result"
    }
   ],
   "source": [
    "docs.shape[0]"
   ]
  },
  {
   "cell_type": "code",
   "execution_count": 47,
   "metadata": {
    "ExecuteTime": {
     "end_time": "2020-05-04T08:20:59.849883Z",
     "start_time": "2020-05-04T08:20:59.821959Z"
    }
   },
   "outputs": [],
   "source": [
    "docs = pd.merge(docs, train[['Код_диагноза', 'Диагноз']].drop_duplicates(),\n",
    "               how='inner', on='Код_диагноза')"
   ]
  },
  {
   "cell_type": "code",
   "execution_count": 48,
   "metadata": {
    "ExecuteTime": {
     "end_time": "2020-05-04T08:21:00.789489Z",
     "start_time": "2020-05-04T08:21:00.785471Z"
    }
   },
   "outputs": [
    {
     "data": {
      "text/plain": [
       "787"
      ]
     },
     "execution_count": 48,
     "metadata": {},
     "output_type": "execute_result"
    }
   ],
   "source": [
    "docs.shape[0]"
   ]
  },
  {
   "cell_type": "code",
   "execution_count": 51,
   "metadata": {
    "ExecuteTime": {
     "end_time": "2020-05-04T08:21:55.541238Z",
     "start_time": "2020-05-04T08:21:55.536256Z"
    }
   },
   "outputs": [],
   "source": [
    "pcp_dict = docs.set_index('Диагноз')['Доктор'].to_dict()"
   ]
  },
  {
   "cell_type": "code",
   "execution_count": 52,
   "metadata": {
    "ExecuteTime": {
     "end_time": "2020-05-04T08:22:10.503310Z",
     "start_time": "2020-05-04T08:22:10.326785Z"
    }
   },
   "outputs": [
    {
     "data": {
      "text/plain": [
       "['model/pcp_dict.joblib']"
      ]
     },
     "execution_count": 52,
     "metadata": {},
     "output_type": "execute_result"
    }
   ],
   "source": [
    "dump(model, 'model/pcp_dict.joblib') "
   ]
  },
  {
   "cell_type": "markdown",
   "metadata": {},
   "source": [
    "# Final predict function"
   ]
  },
  {
   "cell_type": "code",
   "execution_count": 71,
   "metadata": {
    "ExecuteTime": {
     "end_time": "2020-05-04T08:26:24.857271Z",
     "start_time": "2020-05-04T08:26:24.278913Z"
    }
   },
   "outputs": [],
   "source": [
    "prediction = pd.DataFrame(predict(model, X.iloc[:1,:])[0], \n",
    "                          columns = ['Вероятность', 'Болезнь'])"
   ]
  },
  {
   "cell_type": "code",
   "execution_count": 72,
   "metadata": {
    "ExecuteTime": {
     "end_time": "2020-05-04T08:26:46.520134Z",
     "start_time": "2020-05-04T08:26:46.515174Z"
    }
   },
   "outputs": [],
   "source": [
    "prediction['Доктор'] = prediction['Болезнь'].map(pcp_dict)"
   ]
  },
  {
   "cell_type": "code",
   "execution_count": 73,
   "metadata": {
    "ExecuteTime": {
     "end_time": "2020-05-04T08:26:50.053518Z",
     "start_time": "2020-05-04T08:26:50.044543Z"
    }
   },
   "outputs": [
    {
     "data": {
      "text/html": [
       "<div>\n",
       "<style scoped>\n",
       "    .dataframe tbody tr th:only-of-type {\n",
       "        vertical-align: middle;\n",
       "    }\n",
       "\n",
       "    .dataframe tbody tr th {\n",
       "        vertical-align: top;\n",
       "    }\n",
       "\n",
       "    .dataframe thead th {\n",
       "        text-align: right;\n",
       "    }\n",
       "</style>\n",
       "<table border=\"1\" class=\"dataframe\">\n",
       "  <thead>\n",
       "    <tr style=\"text-align: right;\">\n",
       "      <th></th>\n",
       "      <th>Вероятность</th>\n",
       "      <th>Болезнь</th>\n",
       "      <th>Доктор</th>\n",
       "    </tr>\n",
       "  </thead>\n",
       "  <tbody>\n",
       "    <tr>\n",
       "      <td>0</td>\n",
       "      <td>0.196221</td>\n",
       "      <td>Остеохондроз позвоночника у взрослых</td>\n",
       "      <td>невролог</td>\n",
       "    </tr>\n",
       "    <tr>\n",
       "      <td>1</td>\n",
       "      <td>0.090690</td>\n",
       "      <td>Цервикалгия</td>\n",
       "      <td>невролог</td>\n",
       "    </tr>\n",
       "    <tr>\n",
       "      <td>2</td>\n",
       "      <td>0.080731</td>\n",
       "      <td>Остеохондроз позвоночника</td>\n",
       "      <td>невролог</td>\n",
       "    </tr>\n",
       "  </tbody>\n",
       "</table>\n",
       "</div>"
      ],
      "text/plain": [
       "   Вероятность                               Болезнь    Доктор\n",
       "0     0.196221  Остеохондроз позвоночника у взрослых  невролог\n",
       "1     0.090690                           Цервикалгия  невролог\n",
       "2     0.080731             Остеохондроз позвоночника  невролог"
      ]
     },
     "execution_count": 73,
     "metadata": {},
     "output_type": "execute_result"
    }
   ],
   "source": [
    "prediction"
   ]
  }
 ],
 "metadata": {
  "kernelspec": {
   "display_name": "Python 3",
   "language": "python",
   "name": "python3"
  },
  "language_info": {
   "codemirror_mode": {
    "name": "ipython",
    "version": 3
   },
   "file_extension": ".py",
   "mimetype": "text/x-python",
   "name": "python",
   "nbconvert_exporter": "python",
   "pygments_lexer": "ipython3",
   "version": "3.7.3"
  },
  "toc": {
   "base_numbering": 1,
   "nav_menu": {},
   "number_sections": true,
   "sideBar": true,
   "skip_h1_title": false,
   "title_cell": "Table of Contents",
   "title_sidebar": "Contents",
   "toc_cell": false,
   "toc_position": {},
   "toc_section_display": true,
   "toc_window_display": false
  }
 },
 "nbformat": 4,
 "nbformat_minor": 2
}
